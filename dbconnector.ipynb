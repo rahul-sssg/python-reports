{
 "cells": [
  {
   "cell_type": "code",
   "execution_count": 11,
   "id": "fabc3207-aafa-4b72-b873-cfe905322718",
   "metadata": {
    "scrolled": true
   },
   "outputs": [
    {
     "ename": "ObjectNotExecutableError",
     "evalue": "Not an executable object: 'SHOW tables;'",
     "output_type": "error",
     "traceback": [
      "\u001b[0;31m---------------------------------------------------------------------------\u001b[0m",
      "\u001b[0;31mAttributeError\u001b[0m                            Traceback (most recent call last)",
      "File \u001b[0;32m/opt/homebrew/lib/python3.11/site-packages/sqlalchemy/engine/base.py:1414\u001b[0m, in \u001b[0;36mConnection.execute\u001b[0;34m(self, statement, parameters, execution_options)\u001b[0m\n\u001b[1;32m   1413\u001b[0m \u001b[38;5;28;01mtry\u001b[39;00m:\n\u001b[0;32m-> 1414\u001b[0m     meth \u001b[38;5;241m=\u001b[39m \u001b[43mstatement\u001b[49m\u001b[38;5;241;43m.\u001b[39;49m\u001b[43m_execute_on_connection\u001b[49m\n\u001b[1;32m   1415\u001b[0m \u001b[38;5;28;01mexcept\u001b[39;00m \u001b[38;5;167;01mAttributeError\u001b[39;00m \u001b[38;5;28;01mas\u001b[39;00m err:\n",
      "\u001b[0;31mAttributeError\u001b[0m: 'str' object has no attribute '_execute_on_connection'",
      "\nThe above exception was the direct cause of the following exception:\n",
      "\u001b[0;31mObjectNotExecutableError\u001b[0m                  Traceback (most recent call last)",
      "Cell \u001b[0;32mIn[11], line 53\u001b[0m\n\u001b[1;32m     50\u001b[0m conn, cnx \u001b[38;5;241m=\u001b[39m db_connect()\n\u001b[1;32m     52\u001b[0m query \u001b[38;5;241m=\u001b[39m \u001b[38;5;124m\"\u001b[39m\u001b[38;5;124mSHOW tables;\u001b[39m\u001b[38;5;124m\"\u001b[39m\n\u001b[0;32m---> 53\u001b[0m result \u001b[38;5;241m=\u001b[39m \u001b[43mconn\u001b[49m\u001b[38;5;241;43m.\u001b[39;49m\u001b[43mexecute\u001b[49m\u001b[43m(\u001b[49m\u001b[43mquery\u001b[49m\u001b[43m)\u001b[49m\n\u001b[1;32m     55\u001b[0m \u001b[38;5;66;03m# Fetch and print table names\u001b[39;00m\n\u001b[1;32m     56\u001b[0m tables \u001b[38;5;241m=\u001b[39m result\u001b[38;5;241m.\u001b[39mfetchall()\n",
      "File \u001b[0;32m/opt/homebrew/lib/python3.11/site-packages/sqlalchemy/engine/base.py:1416\u001b[0m, in \u001b[0;36mConnection.execute\u001b[0;34m(self, statement, parameters, execution_options)\u001b[0m\n\u001b[1;32m   1414\u001b[0m     meth \u001b[38;5;241m=\u001b[39m statement\u001b[38;5;241m.\u001b[39m_execute_on_connection\n\u001b[1;32m   1415\u001b[0m \u001b[38;5;28;01mexcept\u001b[39;00m \u001b[38;5;167;01mAttributeError\u001b[39;00m \u001b[38;5;28;01mas\u001b[39;00m err:\n\u001b[0;32m-> 1416\u001b[0m     \u001b[38;5;28;01mraise\u001b[39;00m exc\u001b[38;5;241m.\u001b[39mObjectNotExecutableError(statement) \u001b[38;5;28;01mfrom\u001b[39;00m \u001b[38;5;21;01merr\u001b[39;00m\n\u001b[1;32m   1417\u001b[0m \u001b[38;5;28;01melse\u001b[39;00m:\n\u001b[1;32m   1418\u001b[0m     \u001b[38;5;28;01mreturn\u001b[39;00m meth(\n\u001b[1;32m   1419\u001b[0m         \u001b[38;5;28mself\u001b[39m,\n\u001b[1;32m   1420\u001b[0m         distilled_parameters,\n\u001b[1;32m   1421\u001b[0m         execution_options \u001b[38;5;129;01mor\u001b[39;00m NO_OPTIONS,\n\u001b[1;32m   1422\u001b[0m     )\n",
      "\u001b[0;31mObjectNotExecutableError\u001b[0m: Not an executable object: 'SHOW tables;'"
     ]
    }
   ],
   "source": [
    "# from sqlalchemy import create_engine\n",
    "# def db_connect():\n",
    "#     # db_host = \"10.1.2.37:3306\"\n",
    "#     # db_user = \"vubase\"\n",
    "#     # db_pass = \"vub@se_random_pass!\"\n",
    "\n",
    "#     # DEFINE THE DATABASE CREDENTIALS\n",
    "#     user = 'vubase'\n",
    "#     password = 'vub@se_random_pass!'\n",
    "#     host = '10.1.2.37'\n",
    "#     port = 3306\n",
    "#     database = 'user_db'\n",
    "\n",
    "#     # cnx = create_engine(\"mysql+pymysql://{}:{}@{}/user_db\".format(quote(db_user),quote(db_pass),db_host))\n",
    "#     cnx = create_engine(url=\"mysql+pymysql://{0}:{1}@{2}:{3}/{4}\".format(user, password, host, port, database))\n",
    "#     conn = cnx.connect()\n",
    "#     return conn,cnx\n",
    "\n",
    "# conn,cnx = db_connect()\n",
    "\n",
    "\n",
    "\n",
    "\n",
    "\n",
    "from sqlalchemy import create_engine\n",
    "from urllib.parse import quote_plus\n",
    "\n",
    "def db_connect():\n",
    "    user = 'vubase'\n",
    "    password = 'vub@se_random_pass!'\n",
    "    host = '10.1.2.37'\n",
    "    port = 3306\n",
    "    database = 'user_db'\n",
    "\n",
    "    # URL-encode the password to handle special characters\n",
    "    password_encoded = quote_plus(password)\n",
    "\n",
    "    # Create the connection string\n",
    "    connection_string = f\"mysql+pymysql://{user}:{password_encoded}@{host}:{port}/{database}\"\n",
    "\n",
    "    # Create the engine\n",
    "    cnx = create_engine(connection_string)\n",
    "\n",
    "    # Establish the connection\n",
    "    conn = cnx.connect()\n",
    "\n",
    "    return conn, cnx\n",
    "\n",
    "# Test the connection\n",
    "conn, cnx = db_connect()\n",
    "\n",
    "query = \"SHOW tables;\"\n",
    "result = conn.execute(query)\n",
    "\n",
    "# Fetch and print table names\n",
    "tables = result.fetchall()\n",
    "print(\"Tables in database:\")\n",
    "for table in tables:\n",
    "    print(table[0])\n",
    "\n",
    "conn.close()"
   ]
  },
  {
   "cell_type": "code",
   "execution_count": null,
   "id": "e387264b-539f-4eb0-8855-8582236de001",
   "metadata": {
    "scrolled": true
   },
   "outputs": [],
   "source": [
    "pip install sqlalchemy\n",
    "pip install pymysql"
   ]
  },
  {
   "cell_type": "code",
   "execution_count": null,
   "id": "10f4b79d-3b58-49ec-860b-02aa3e823334",
   "metadata": {},
   "outputs": [],
   "source": [
    "from platform import python_version\n",
    "print(python_version())"
   ]
  },
  {
   "cell_type": "code",
   "execution_count": null,
   "id": "79cdae8c-9a1e-41eb-af82-6f79ff20ff6f",
   "metadata": {},
   "outputs": [],
   "source": []
  }
 ],
 "metadata": {
  "kernelspec": {
   "display_name": "Python 3 (ipykernel)",
   "language": "python",
   "name": "python3"
  },
  "language_info": {
   "codemirror_mode": {
    "name": "ipython",
    "version": 3
   },
   "file_extension": ".py",
   "mimetype": "text/x-python",
   "name": "python",
   "nbconvert_exporter": "python",
   "pygments_lexer": "ipython3",
   "version": "3.11.10"
  }
 },
 "nbformat": 4,
 "nbformat_minor": 5
}
